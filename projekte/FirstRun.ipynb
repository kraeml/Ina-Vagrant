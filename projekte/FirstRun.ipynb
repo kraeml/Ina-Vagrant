{
 "cells": [
  {
   "cell_type": "markdown",
   "metadata": {},
   "source": [
    "# Ina Start\n",
    "\n",
    "```bash\n",
    "git clone https://github.com/kraeml/Ina-Vagrant.git\n",
    "cd Ina-Vagrant\n",
    "git checkout -b SJ2016\n",
    "```\n",
    "\n",
    "```bash\n",
    "vagrant destroy && vagrant up\n",
    "```\n",
    "\n",
    "---\n",
    "__Von USB geladen:__\n",
    "\n",
    "```bash\n",
    "make create-ina\n",
    "```\n",
    "---\n",
    "\n",
    "phpmyadmin (pma): http://192.168.2.10\n",
    "\n",
    "* admin: root         pw: CaHrdf1617\n",
    "* user:  example_user pw: Secure-CaHrdf\n",
    "\n",
    "Jupyter: http://192.168.2.10:8888/tree\n",
    "\n",
    "Jupyter Lab: http://192.168.2.10:8888\n",
    "\n",
    "Cloud9 IDE: http://192.168.2.10:8181\n",
    "\n",
    "Node-Red: http://192.168.2.10:1880\n",
    "\n",
    "Website: http://192.168.2.10/~vagrant\n",
    "\n",
    "---\n",
    "\n",
    "Hier der Einstieg: http://192.168.2.10:8888/notebooks/www/FirstRun.ipynb\n",
    "\n",
    "---"
   ]
  },
  {
   "cell_type": "code",
   "execution_count": 1,
   "metadata": {
    "collapsed": false
   },
   "outputs": [
    {
     "name": "stdout",
     "output_type": "stream",
     "text": [
      "vagrant\r\n"
     ]
    }
   ],
   "source": [
    "whoami"
   ]
  },
  {
   "cell_type": "code",
   "execution_count": 2,
   "metadata": {
    "collapsed": false
   },
   "outputs": [
    {
     "name": "stdout",
     "output_type": "stream",
     "text": [
      "\u001b[90m┌─────────────\u001b[39m\u001b[90m┬────\u001b[39m\u001b[90m┬──────\u001b[39m\u001b[90m┬──────\u001b[39m\u001b[90m┬────────\u001b[39m\u001b[90m┬─────────\u001b[39m\u001b[90m┬────────\u001b[39m\u001b[90m┬─────\u001b[39m\u001b[90m┬───────────\u001b[39m\u001b[90m┬──────────┐\u001b[39m\r\n",
      "\u001b[90m│\u001b[39m\u001b[1m\u001b[36m App name    \u001b[39m\u001b[22m\u001b[90m│\u001b[39m\u001b[1m\u001b[36m id \u001b[39m\u001b[22m\u001b[90m│\u001b[39m\u001b[1m\u001b[36m mode \u001b[39m\u001b[22m\u001b[90m│\u001b[39m\u001b[1m\u001b[36m pid  \u001b[39m\u001b[22m\u001b[90m│\u001b[39m\u001b[1m\u001b[36m status \u001b[39m\u001b[22m\u001b[90m│\u001b[39m\u001b[1m\u001b[36m restart \u001b[39m\u001b[22m\u001b[90m│\u001b[39m\u001b[1m\u001b[36m uptime \u001b[39m\u001b[22m\u001b[90m│\u001b[39m\u001b[1m\u001b[36m cpu \u001b[39m\u001b[22m\u001b[90m│\u001b[39m\u001b[1m\u001b[36m mem       \u001b[39m\u001b[22m\u001b[90m│\u001b[39m\u001b[1m\u001b[36m watching \u001b[39m\u001b[22m\u001b[90m│\u001b[39m\r\n",
      "\u001b[90m├─────────────\u001b[39m\u001b[90m┼────\u001b[39m\u001b[90m┼──────\u001b[39m\u001b[90m┼──────\u001b[39m\u001b[90m┼────────\u001b[39m\u001b[90m┼─────────\u001b[39m\u001b[90m┼────────\u001b[39m\u001b[90m┼─────\u001b[39m\u001b[90m┼───────────\u001b[39m\u001b[90m┼──────────┤\u001b[39m\r\n",
      "\u001b[90m│\u001b[39m \u001b[1m\u001b[36mcloud9\u001b[39m\u001b[22m      \u001b[90m│\u001b[39m 0  \u001b[90m│\u001b[39m \u001b[7m\u001b[1mfork\u001b[22m\u001b[27m \u001b[90m│\u001b[39m 1636 \u001b[90m│\u001b[39m \u001b[32m\u001b[1monline\u001b[22m\u001b[39m \u001b[90m│\u001b[39m 0       \u001b[90m│\u001b[39m 34m    \u001b[90m│\u001b[39m 0%  \u001b[90m│\u001b[39m 82.3 MB   \u001b[90m│\u001b[39m \u001b[90mdisabled\u001b[39m \u001b[90m│\u001b[39m\r\n",
      "\u001b[90m│\u001b[39m \u001b[1m\u001b[36mjupyter-lab\u001b[39m\u001b[22m \u001b[90m│\u001b[39m 2  \u001b[90m│\u001b[39m \u001b[7m\u001b[1mfork\u001b[22m\u001b[27m \u001b[90m│\u001b[39m 1648 \u001b[90m│\u001b[39m \u001b[32m\u001b[1monline\u001b[22m\u001b[39m \u001b[90m│\u001b[39m 0       \u001b[90m│\u001b[39m 34m    \u001b[90m│\u001b[39m 0%  \u001b[90m│\u001b[39m 48.7 MB   \u001b[90m│\u001b[39m \u001b[90mdisabled\u001b[39m \u001b[90m│\u001b[39m\r\n",
      "\u001b[90m│\u001b[39m \u001b[1m\u001b[36mnode-red\u001b[39m\u001b[22m    \u001b[90m│\u001b[39m 1  \u001b[90m│\u001b[39m \u001b[7m\u001b[1mfork\u001b[22m\u001b[27m \u001b[90m│\u001b[39m 1642 \u001b[90m│\u001b[39m \u001b[32m\u001b[1monline\u001b[22m\u001b[39m \u001b[90m│\u001b[39m 0       \u001b[90m│\u001b[39m 34m    \u001b[90m│\u001b[39m 0%  \u001b[90m│\u001b[39m 58.2 MB   \u001b[90m│\u001b[39m \u001b[90mdisabled\u001b[39m \u001b[90m│\u001b[39m\r\n",
      "\u001b[90m└─────────────\u001b[39m\u001b[90m┴────\u001b[39m\u001b[90m┴──────\u001b[39m\u001b[90m┴──────\u001b[39m\u001b[90m┴────────\u001b[39m\u001b[90m┴─────────\u001b[39m\u001b[90m┴────────\u001b[39m\u001b[90m┴─────\u001b[39m\u001b[90m┴───────────\u001b[39m\u001b[90m┴──────────┘\u001b[39m\r\n",
      "\u001b[37m\u001b[3m Use `pm2 show <id|name>` to get more details about an app\u001b[23m\u001b[39m\r\n"
     ]
    }
   ],
   "source": [
    "pm2 list"
   ]
  },
  {
   "cell_type": "code",
   "execution_count": 3,
   "metadata": {
    "collapsed": false
   },
   "outputs": [
    {
     "name": "stdout",
     "output_type": "stream",
     "text": []
    }
   ],
   "source": [
    "cd ~/www"
   ]
  },
  {
   "cell_type": "code",
   "execution_count": 4,
   "metadata": {
    "collapsed": false
   },
   "outputs": [
    {
     "name": "stdout",
     "output_type": "stream",
     "text": [
      "/home/vagrant/www\r\n"
     ]
    }
   ],
   "source": [
    "pwd"
   ]
  },
  {
   "cell_type": "markdown",
   "metadata": {},
   "source": [
    "Zum Stoppen:\n",
    "\n",
    "```bash\n",
    "vagrant halt\n",
    "```\n",
    "\n",
    "Zum erneuten Starten:\n",
    "\n",
    "```bash\n",
    "vagrant up\n",
    "```"
   ]
  }
 ],
 "metadata": {
  "kernelspec": {
   "display_name": "Bash",
   "language": "bash",
   "name": "bash"
  },
  "language_info": {
   "codemirror_mode": "shell",
   "file_extension": ".sh",
   "mimetype": "text/x-sh",
   "name": "bash"
  }
 },
 "nbformat": 4,
 "nbformat_minor": 0
}
